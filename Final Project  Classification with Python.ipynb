{
 "cells": [
  {
   "cell_type": "code",
   "execution_count": 1,
   "id": "b8bbb3e6",
   "metadata": {},
   "outputs": [],
   "source": [
    "import pandas as pd\n",
    "from sklearn.linear_model import LogisticRegression\n",
    "from sklearn.linear_model import LinearRegression\n",
    "from sklearn import preprocessing\n",
    "import numpy as np\n",
    "from sklearn.model_selection import train_test_split\n",
    "from sklearn.neighbors import KNeighborsClassifier\n",
    "from sklearn.tree import DecisionTreeClassifier\n",
    "from sklearn import svm\n",
    "from sklearn.metrics import jaccard_score\n",
    "from sklearn.metrics import f1_score\n",
    "from sklearn.metrics import log_loss\n",
    "from sklearn.metrics import confusion_matrix, accuracy_score\n",
    "import sklearn.metrics as metrics"
   ]
  },
  {
   "cell_type": "markdown",
   "id": "f0ffd712",
   "metadata": {},
   "source": [
    "### Importing the Dataset"
   ]
  },
  {
   "cell_type": "code",
   "execution_count": 2,
   "id": "63cca337",
   "metadata": {},
   "outputs": [],
   "source": [
    "path='https://cf-courses-data.s3.us.cloud-object-storage.appdomain.cloud/IBMDeveloperSkillsNetwork-ML0101EN-SkillUp/labs/ML-FinalAssignment/Weather_Data.csv'"
   ]
  },
  {
   "cell_type": "code",
   "execution_count": 3,
   "id": "397b8cf2",
   "metadata": {},
   "outputs": [
    {
     "data": {
      "text/html": [
       "<div>\n",
       "<style scoped>\n",
       "    .dataframe tbody tr th:only-of-type {\n",
       "        vertical-align: middle;\n",
       "    }\n",
       "\n",
       "    .dataframe tbody tr th {\n",
       "        vertical-align: top;\n",
       "    }\n",
       "\n",
       "    .dataframe thead th {\n",
       "        text-align: right;\n",
       "    }\n",
       "</style>\n",
       "<table border=\"1\" class=\"dataframe\">\n",
       "  <thead>\n",
       "    <tr style=\"text-align: right;\">\n",
       "      <th></th>\n",
       "      <th>Date</th>\n",
       "      <th>MinTemp</th>\n",
       "      <th>MaxTemp</th>\n",
       "      <th>Rainfall</th>\n",
       "      <th>Evaporation</th>\n",
       "      <th>Sunshine</th>\n",
       "      <th>WindGustDir</th>\n",
       "      <th>WindGustSpeed</th>\n",
       "      <th>WindDir9am</th>\n",
       "      <th>WindDir3pm</th>\n",
       "      <th>...</th>\n",
       "      <th>Humidity9am</th>\n",
       "      <th>Humidity3pm</th>\n",
       "      <th>Pressure9am</th>\n",
       "      <th>Pressure3pm</th>\n",
       "      <th>Cloud9am</th>\n",
       "      <th>Cloud3pm</th>\n",
       "      <th>Temp9am</th>\n",
       "      <th>Temp3pm</th>\n",
       "      <th>RainToday</th>\n",
       "      <th>RainTomorrow</th>\n",
       "    </tr>\n",
       "  </thead>\n",
       "  <tbody>\n",
       "    <tr>\n",
       "      <th>0</th>\n",
       "      <td>2/1/2008</td>\n",
       "      <td>19.5</td>\n",
       "      <td>22.4</td>\n",
       "      <td>15.6</td>\n",
       "      <td>6.2</td>\n",
       "      <td>0.0</td>\n",
       "      <td>W</td>\n",
       "      <td>41</td>\n",
       "      <td>S</td>\n",
       "      <td>SSW</td>\n",
       "      <td>...</td>\n",
       "      <td>92</td>\n",
       "      <td>84</td>\n",
       "      <td>1017.6</td>\n",
       "      <td>1017.4</td>\n",
       "      <td>8</td>\n",
       "      <td>8</td>\n",
       "      <td>20.7</td>\n",
       "      <td>20.9</td>\n",
       "      <td>Yes</td>\n",
       "      <td>Yes</td>\n",
       "    </tr>\n",
       "    <tr>\n",
       "      <th>1</th>\n",
       "      <td>2/2/2008</td>\n",
       "      <td>19.5</td>\n",
       "      <td>25.6</td>\n",
       "      <td>6.0</td>\n",
       "      <td>3.4</td>\n",
       "      <td>2.7</td>\n",
       "      <td>W</td>\n",
       "      <td>41</td>\n",
       "      <td>W</td>\n",
       "      <td>E</td>\n",
       "      <td>...</td>\n",
       "      <td>83</td>\n",
       "      <td>73</td>\n",
       "      <td>1017.9</td>\n",
       "      <td>1016.4</td>\n",
       "      <td>7</td>\n",
       "      <td>7</td>\n",
       "      <td>22.4</td>\n",
       "      <td>24.8</td>\n",
       "      <td>Yes</td>\n",
       "      <td>Yes</td>\n",
       "    </tr>\n",
       "    <tr>\n",
       "      <th>2</th>\n",
       "      <td>2/3/2008</td>\n",
       "      <td>21.6</td>\n",
       "      <td>24.5</td>\n",
       "      <td>6.6</td>\n",
       "      <td>2.4</td>\n",
       "      <td>0.1</td>\n",
       "      <td>W</td>\n",
       "      <td>41</td>\n",
       "      <td>ESE</td>\n",
       "      <td>ESE</td>\n",
       "      <td>...</td>\n",
       "      <td>88</td>\n",
       "      <td>86</td>\n",
       "      <td>1016.7</td>\n",
       "      <td>1015.6</td>\n",
       "      <td>7</td>\n",
       "      <td>8</td>\n",
       "      <td>23.5</td>\n",
       "      <td>23.0</td>\n",
       "      <td>Yes</td>\n",
       "      <td>Yes</td>\n",
       "    </tr>\n",
       "    <tr>\n",
       "      <th>3</th>\n",
       "      <td>2/4/2008</td>\n",
       "      <td>20.2</td>\n",
       "      <td>22.8</td>\n",
       "      <td>18.8</td>\n",
       "      <td>2.2</td>\n",
       "      <td>0.0</td>\n",
       "      <td>W</td>\n",
       "      <td>41</td>\n",
       "      <td>NNE</td>\n",
       "      <td>E</td>\n",
       "      <td>...</td>\n",
       "      <td>83</td>\n",
       "      <td>90</td>\n",
       "      <td>1014.2</td>\n",
       "      <td>1011.8</td>\n",
       "      <td>8</td>\n",
       "      <td>8</td>\n",
       "      <td>21.4</td>\n",
       "      <td>20.9</td>\n",
       "      <td>Yes</td>\n",
       "      <td>Yes</td>\n",
       "    </tr>\n",
       "    <tr>\n",
       "      <th>4</th>\n",
       "      <td>2/5/2008</td>\n",
       "      <td>19.7</td>\n",
       "      <td>25.7</td>\n",
       "      <td>77.4</td>\n",
       "      <td>4.8</td>\n",
       "      <td>0.0</td>\n",
       "      <td>W</td>\n",
       "      <td>41</td>\n",
       "      <td>NNE</td>\n",
       "      <td>W</td>\n",
       "      <td>...</td>\n",
       "      <td>88</td>\n",
       "      <td>74</td>\n",
       "      <td>1008.3</td>\n",
       "      <td>1004.8</td>\n",
       "      <td>8</td>\n",
       "      <td>8</td>\n",
       "      <td>22.5</td>\n",
       "      <td>25.5</td>\n",
       "      <td>Yes</td>\n",
       "      <td>Yes</td>\n",
       "    </tr>\n",
       "  </tbody>\n",
       "</table>\n",
       "<p>5 rows × 22 columns</p>\n",
       "</div>"
      ],
      "text/plain": [
       "       Date  MinTemp  MaxTemp  Rainfall  Evaporation  Sunshine WindGustDir  \\\n",
       "0  2/1/2008     19.5     22.4      15.6          6.2       0.0           W   \n",
       "1  2/2/2008     19.5     25.6       6.0          3.4       2.7           W   \n",
       "2  2/3/2008     21.6     24.5       6.6          2.4       0.1           W   \n",
       "3  2/4/2008     20.2     22.8      18.8          2.2       0.0           W   \n",
       "4  2/5/2008     19.7     25.7      77.4          4.8       0.0           W   \n",
       "\n",
       "   WindGustSpeed WindDir9am WindDir3pm  ...  Humidity9am  Humidity3pm  \\\n",
       "0             41          S        SSW  ...           92           84   \n",
       "1             41          W          E  ...           83           73   \n",
       "2             41        ESE        ESE  ...           88           86   \n",
       "3             41        NNE          E  ...           83           90   \n",
       "4             41        NNE          W  ...           88           74   \n",
       "\n",
       "   Pressure9am  Pressure3pm  Cloud9am  Cloud3pm  Temp9am  Temp3pm  RainToday  \\\n",
       "0       1017.6       1017.4         8         8     20.7     20.9        Yes   \n",
       "1       1017.9       1016.4         7         7     22.4     24.8        Yes   \n",
       "2       1016.7       1015.6         7         8     23.5     23.0        Yes   \n",
       "3       1014.2       1011.8         8         8     21.4     20.9        Yes   \n",
       "4       1008.3       1004.8         8         8     22.5     25.5        Yes   \n",
       "\n",
       "   RainTomorrow  \n",
       "0           Yes  \n",
       "1           Yes  \n",
       "2           Yes  \n",
       "3           Yes  \n",
       "4           Yes  \n",
       "\n",
       "[5 rows x 22 columns]"
      ]
     },
     "execution_count": 3,
     "metadata": {},
     "output_type": "execute_result"
    }
   ],
   "source": [
    "df = pd.read_csv(\"Weather_Data.csv\")\n",
    "df.head()"
   ]
  },
  {
   "cell_type": "markdown",
   "id": "21485333",
   "metadata": {},
   "source": [
    "### Data Preprocessing"
   ]
  },
  {
   "cell_type": "markdown",
   "id": "2c7f60cf",
   "metadata": {},
   "source": [
    "#### One Hot Encoding"
   ]
  },
  {
   "cell_type": "markdown",
   "id": "0bf13291",
   "metadata": {},
   "source": [
    "First, we need to perform one hot encoding to convert categorical variables to binary variables."
   ]
  },
  {
   "cell_type": "code",
   "execution_count": 4,
   "id": "a8d8da16",
   "metadata": {},
   "outputs": [],
   "source": [
    "df_sydney_processed = pd.get_dummies(data=df, columns=['RainToday', 'WindGustDir', 'WindDir9am', 'WindDir3pm'])"
   ]
  },
  {
   "cell_type": "markdown",
   "id": "7cc5c58e",
   "metadata": {},
   "source": [
    "Next, we replace the values of the 'RainTomorrow' column changing them from a categorical column to a binary column. We do not use the `get_dummies` method because we would end up with two columns for 'RainTomorrow' and we do not want, since 'RainTomorrow' is our target.\n"
   ]
  },
  {
   "cell_type": "code",
   "execution_count": 5,
   "id": "2614219f",
   "metadata": {},
   "outputs": [],
   "source": [
    "df_sydney_processed.replace(['No', 'Yes'], [0,1], inplace=True)"
   ]
  },
  {
   "cell_type": "markdown",
   "id": "62b5261f",
   "metadata": {},
   "source": [
    "### Training Data and Test Data"
   ]
  },
  {
   "cell_type": "markdown",
   "id": "44d0369e",
   "metadata": {},
   "source": [
    "Now, we set our 'features' or x values and our Y or target variable."
   ]
  },
  {
   "cell_type": "code",
   "execution_count": 6,
   "id": "9a0f98cb",
   "metadata": {},
   "outputs": [],
   "source": [
    "df_sydney_processed.drop('Date',axis=1,inplace=True)"
   ]
  },
  {
   "cell_type": "code",
   "execution_count": 7,
   "id": "ab983a3e",
   "metadata": {},
   "outputs": [],
   "source": [
    "df_sydney_processed = df_sydney_processed.astype(float)"
   ]
  },
  {
   "cell_type": "code",
   "execution_count": 8,
   "id": "6f8ea200",
   "metadata": {},
   "outputs": [],
   "source": [
    "features = df_sydney_processed.drop(columns='RainTomorrow', axis=1)\n",
    "Y = df_sydney_processed['RainTomorrow']"
   ]
  },
  {
   "cell_type": "markdown",
   "id": "e4f11a5a",
   "metadata": {},
   "source": [
    "### Linear Regression"
   ]
  },
  {
   "cell_type": "markdown",
   "id": "63d6c595",
   "metadata": {},
   "source": [
    "#### Q1) Use the `train_test_split` function to split the `features` and `Y` dataframes with a `test_size` of `0.2` and the `random_state` set to `10`."
   ]
  },
  {
   "cell_type": "code",
   "execution_count": 9,
   "id": "a1936f8b",
   "metadata": {},
   "outputs": [
    {
     "data": {
      "text/plain": [
       "(      MinTemp  MaxTemp  Rainfall  Evaporation  Sunshine  WindGustSpeed  \\\n",
       " 3188     14.8     22.0      33.8          4.2       1.5           50.0   \n",
       " 2582      8.1     18.4       0.0          4.8       8.5           41.0   \n",
       " 815      15.4     21.1       0.0          3.8       5.9           41.0   \n",
       " 1024     20.0     26.5       0.0          8.6      13.1           30.0   \n",
       " 1320     14.8     18.3      38.8          7.4       0.1           48.0   \n",
       " ...       ...      ...       ...          ...       ...            ...   \n",
       " 3195     11.7     17.9       8.8          7.8       6.1           54.0   \n",
       " 1344     17.0     21.7       0.0          5.4      10.7           26.0   \n",
       " 527       6.7     17.3       0.0          2.6       6.9           41.0   \n",
       " 3197     15.0     22.7       9.4          4.2       2.8           43.0   \n",
       " 1289     15.9     30.1       0.2          7.6      12.2           33.0   \n",
       " \n",
       "       WindSpeed9am  WindSpeed3pm  Humidity9am  Humidity3pm  ...  \\\n",
       " 3188          19.0          24.0         90.0         49.0  ...   \n",
       " 2582          20.0          11.0         70.0         50.0  ...   \n",
       " 815            7.0          28.0         59.0         41.0  ...   \n",
       " 1024           7.0          20.0         64.0         63.0  ...   \n",
       " 1320          19.0          24.0         93.0         86.0  ...   \n",
       " ...            ...           ...          ...          ...  ...   \n",
       " 3195          26.0          26.0         51.0         56.0  ...   \n",
       " 1344          15.0          20.0         50.0         47.0  ...   \n",
       " 527           17.0           7.0         79.0         42.0  ...   \n",
       " 3197          19.0          17.0         71.0         75.0  ...   \n",
       " 1289          11.0           9.0         59.0         39.0  ...   \n",
       " \n",
       "       WindDir3pm_NNW  WindDir3pm_NW  WindDir3pm_S  WindDir3pm_SE  \\\n",
       " 3188             0.0            0.0           0.0            0.0   \n",
       " 2582             0.0            0.0           0.0            0.0   \n",
       " 815              0.0            0.0           0.0            0.0   \n",
       " 1024             0.0            0.0           0.0            0.0   \n",
       " 1320             0.0            0.0           0.0            0.0   \n",
       " ...              ...            ...           ...            ...   \n",
       " 3195             0.0            0.0           0.0            0.0   \n",
       " 1344             0.0            0.0           0.0            0.0   \n",
       " 527              0.0            1.0           0.0            0.0   \n",
       " 3197             0.0            0.0           0.0            0.0   \n",
       " 1289             0.0            0.0           0.0            0.0   \n",
       " \n",
       "       WindDir3pm_SSE  WindDir3pm_SSW  WindDir3pm_SW  WindDir3pm_W  \\\n",
       " 3188             0.0             0.0            0.0           0.0   \n",
       " 2582             0.0             0.0            0.0           0.0   \n",
       " 815              0.0             0.0            0.0           1.0   \n",
       " 1024             0.0             0.0            0.0           0.0   \n",
       " 1320             1.0             0.0            0.0           0.0   \n",
       " ...              ...             ...            ...           ...   \n",
       " 3195             0.0             0.0            0.0           1.0   \n",
       " 1344             0.0             0.0            0.0           0.0   \n",
       " 527              0.0             0.0            0.0           0.0   \n",
       " 3197             0.0             1.0            0.0           0.0   \n",
       " 1289             0.0             0.0            0.0           0.0   \n",
       " \n",
       "       WindDir3pm_WNW  WindDir3pm_WSW  \n",
       " 3188             0.0             0.0  \n",
       " 2582             0.0             0.0  \n",
       " 815              0.0             0.0  \n",
       " 1024             0.0             0.0  \n",
       " 1320             0.0             0.0  \n",
       " ...              ...             ...  \n",
       " 3195             0.0             0.0  \n",
       " 1344             0.0             0.0  \n",
       " 527              0.0             0.0  \n",
       " 3197             0.0             0.0  \n",
       " 1289             0.0             0.0  \n",
       " \n",
       " [2616 rows x 66 columns],\n",
       "       MinTemp  MaxTemp  Rainfall  Evaporation  Sunshine  WindGustSpeed  \\\n",
       " 3066     18.7     35.7       0.2          6.0       9.8           57.0   \n",
       " 2456     15.0     24.8      22.4          3.4       9.7           37.0   \n",
       " 1629      8.5     16.0       3.4          2.0       4.3           74.0   \n",
       " 838      11.7     19.9       1.6          1.4       4.6           41.0   \n",
       " 2506      7.9     19.3       2.2          4.0      10.1           46.0   \n",
       " ...       ...      ...       ...          ...       ...            ...   \n",
       " 2632     12.2     19.9       0.0          4.2       8.2           43.0   \n",
       " 1725     20.1     28.7       0.2          4.2      10.7           31.0   \n",
       " 1158     11.6     15.7      18.2          4.8       0.3           57.0   \n",
       " 1661     16.9     23.9       0.0          9.8       9.9           57.0   \n",
       " 68       15.6     22.2      22.8          5.4       5.8           41.0   \n",
       " \n",
       "       WindSpeed9am  WindSpeed3pm  Humidity9am  Humidity3pm  ...  \\\n",
       " 3066          13.0          17.0         44.0         24.0  ...   \n",
       " 2456          19.0          20.0         72.0         53.0  ...   \n",
       " 1629          35.0          22.0         84.0         87.0  ...   \n",
       " 838           15.0           7.0         92.0         53.0  ...   \n",
       " 2506          28.0          20.0         49.0         34.0  ...   \n",
       " ...            ...           ...          ...          ...  ...   \n",
       " 2632           9.0          28.0         53.0         57.0  ...   \n",
       " 1725          11.0          20.0         70.0         65.0  ...   \n",
       " 1158          28.0          35.0         89.0         67.0  ...   \n",
       " 1661          19.0          28.0         60.0         51.0  ...   \n",
       " 68            13.0          20.0         96.0         62.0  ...   \n",
       " \n",
       "       WindDir3pm_NNW  WindDir3pm_NW  WindDir3pm_S  WindDir3pm_SE  \\\n",
       " 3066             0.0            0.0           0.0            0.0   \n",
       " 2456             0.0            0.0           0.0            0.0   \n",
       " 1629             0.0            0.0           0.0            0.0   \n",
       " 838              0.0            0.0           0.0            0.0   \n",
       " 2506             0.0            0.0           0.0            0.0   \n",
       " ...              ...            ...           ...            ...   \n",
       " 2632             0.0            0.0           0.0            1.0   \n",
       " 1725             0.0            0.0           0.0            0.0   \n",
       " 1158             0.0            0.0           0.0            0.0   \n",
       " 1661             0.0            0.0           0.0            0.0   \n",
       " 68               0.0            0.0           0.0            0.0   \n",
       " \n",
       "       WindDir3pm_SSE  WindDir3pm_SSW  WindDir3pm_SW  WindDir3pm_W  \\\n",
       " 3066             0.0             0.0            0.0           0.0   \n",
       " 2456             1.0             0.0            0.0           0.0   \n",
       " 1629             0.0             1.0            0.0           0.0   \n",
       " 838              0.0             0.0            0.0           0.0   \n",
       " 2506             0.0             0.0            0.0           1.0   \n",
       " ...              ...             ...            ...           ...   \n",
       " 2632             0.0             0.0            0.0           0.0   \n",
       " 1725             0.0             0.0            0.0           0.0   \n",
       " 1158             1.0             0.0            0.0           0.0   \n",
       " 1661             1.0             0.0            0.0           0.0   \n",
       " 68               0.0             0.0            0.0           0.0   \n",
       " \n",
       "       WindDir3pm_WNW  WindDir3pm_WSW  \n",
       " 3066             0.0             0.0  \n",
       " 2456             0.0             0.0  \n",
       " 1629             0.0             0.0  \n",
       " 838              0.0             0.0  \n",
       " 2506             0.0             0.0  \n",
       " ...              ...             ...  \n",
       " 2632             0.0             0.0  \n",
       " 1725             0.0             0.0  \n",
       " 1158             0.0             0.0  \n",
       " 1661             0.0             0.0  \n",
       " 68               0.0             0.0  \n",
       " \n",
       " [655 rows x 66 columns],\n",
       " 3188    1.0\n",
       " 2582    0.0\n",
       " 815     1.0\n",
       " 1024    0.0\n",
       " 1320    1.0\n",
       "        ... \n",
       " 3195    0.0\n",
       " 1344    0.0\n",
       " 527     0.0\n",
       " 3197    1.0\n",
       " 1289    0.0\n",
       " Name: RainTomorrow, Length: 2616, dtype: float64,\n",
       " 3066    0.0\n",
       " 2456    0.0\n",
       " 1629    1.0\n",
       " 838     1.0\n",
       " 2506    0.0\n",
       "        ... \n",
       " 2632    1.0\n",
       " 1725    0.0\n",
       " 1158    1.0\n",
       " 1661    0.0\n",
       " 68      1.0\n",
       " Name: RainTomorrow, Length: 655, dtype: float64)"
      ]
     },
     "execution_count": 9,
     "metadata": {},
     "output_type": "execute_result"
    }
   ],
   "source": [
    "x_train, x_test, y_train, y_test= train_test_split(features, Y, test_size=0.2, random_state=10)\n",
    "x_train, x_test, y_train, y_test"
   ]
  },
  {
   "cell_type": "markdown",
   "id": "3830c77f",
   "metadata": {},
   "source": [
    "#### Q2) Create and train a Linear Regression model called LinearReg using the training data (`x_train`, `y_train`)."
   ]
  },
  {
   "cell_type": "code",
   "execution_count": 10,
   "id": "bb9147f1",
   "metadata": {},
   "outputs": [
    {
     "data": {
      "text/plain": [
       "LinearRegression()"
      ]
     },
     "execution_count": 10,
     "metadata": {},
     "output_type": "execute_result"
    }
   ],
   "source": [
    "# Create the Linear Regression model\n",
    "LinearReg = LinearRegression()\n",
    "\n",
    "# Train the model using the training data\n",
    "LinearReg.fit(x_train, y_train)\n",
    "\n",
    "LinearReg"
   ]
  },
  {
   "cell_type": "markdown",
   "id": "838a907a",
   "metadata": {},
   "source": [
    "#### Q3) Now use the `predict` method on the testing data (`x_test`) and save it to the array `predictions`."
   ]
  },
  {
   "cell_type": "code",
   "execution_count": 11,
   "id": "28849e2d",
   "metadata": {},
   "outputs": [
    {
     "data": {
      "text/plain": [
       "array([ 1.31813049e-01,  2.76214600e-01,  9.78200912e-01,  2.87437439e-01,\n",
       "        1.32423401e-01,  4.60474014e-01,  3.56777191e-01,  8.56437683e-01,\n",
       "        6.75012589e-01,  3.82213593e-02,  4.75692749e-03,  2.81200409e-01,\n",
       "        3.39061737e-01,  7.81154633e-02,  6.25858307e-02,  5.64435959e-01,\n",
       "       -6.15749359e-02,  5.24192810e-01,  1.53690338e-01,  3.59710693e-01,\n",
       "        6.05564117e-02,  9.03549194e-01,  4.67275620e-01,  2.03372955e-01,\n",
       "       -7.10105896e-02,  3.83895874e-01,  5.36081314e-01, -2.28939056e-02,\n",
       "        6.40096664e-01, -9.56516266e-02,  3.78076553e-01,  1.20264053e-01,\n",
       "       -1.81388855e-02,  5.53817749e-02,  5.63533783e-01,  1.06299210e+00,\n",
       "       -6.71958923e-03,  5.14400482e-01, -8.83979797e-02,  6.91871643e-02,\n",
       "        2.44693756e-02,  8.71761322e-01,  2.44667053e-01,  3.94721985e-01,\n",
       "        2.67553329e-01,  4.46792603e-01, -4.75807190e-02,  1.89435959e-01,\n",
       "        7.76603699e-01,  1.57752991e-01,  3.97872925e-03, -5.19638062e-02,\n",
       "        2.07319260e-01, -2.07881927e-01, -7.60841370e-02,  2.49658585e-01,\n",
       "        2.79291153e-01,  6.02783203e-01,  6.29570007e-01,  4.90663528e-01,\n",
       "        5.64250946e-02,  1.05480194e-01,  6.70017242e-01,  7.64844894e-01,\n",
       "        9.84725952e-02, -6.33182526e-02,  4.13818359e-01,  7.25193024e-02,\n",
       "        2.49902725e-01,  2.56454468e-01,  3.77502441e-02, -6.88800812e-02,\n",
       "        3.48232269e-01,  1.73076630e-01,  4.15452957e-01, -7.24925995e-02,\n",
       "        3.41123581e-01,  1.86985016e-01, -1.54853821e-01,  7.99791336e-01,\n",
       "        2.32429504e-01,  2.37363815e-01,  2.56141663e-01,  1.03471756e-01,\n",
       "        6.20767593e-01,  1.29756927e-01,  3.71429443e-01,  4.83011246e-01,\n",
       "        3.08231354e-01,  1.19415283e-01,  5.48324585e-02,  1.12825394e-01,\n",
       "       -1.62471771e-01, -1.58067703e-01,  7.29293823e-02,  7.76418686e-01,\n",
       "        8.43429565e-02,  6.43085480e-01,  1.21793747e-01,  1.78050995e-01,\n",
       "        3.04943085e-01,  1.85470581e-01,  1.13144493e+00,  3.44455719e-01,\n",
       "        8.26881409e-01,  5.38877487e-01,  2.74362564e-01,  6.29423141e-01,\n",
       "       -6.72245026e-02,  9.63537216e-01,  5.61882019e-01,  2.34527588e-02,\n",
       "        1.05642319e-01,  9.38301086e-02,  8.15353394e-02,  2.92114258e-01,\n",
       "        5.55095673e-01,  6.69231415e-02,  4.25529480e-02,  9.19342041e-04,\n",
       "        1.37676239e-01, -2.18009949e-01,  7.01045990e-02,  1.19815826e-01,\n",
       "        1.92728043e-01, -3.82537842e-02,  1.55977249e-01,  7.12610245e-01,\n",
       "        2.62361526e-01,  5.34852982e-01,  3.97806168e-01, -4.64878082e-02,\n",
       "        2.44029999e-01,  2.06287384e-01,  2.80372620e-01, -1.28271103e-01,\n",
       "        1.19480133e-01,  3.83356094e-01,  1.84398651e-01,  7.28561401e-01,\n",
       "        3.31829071e-01, -1.03256226e-01,  2.39477158e-01,  3.06018829e-01,\n",
       "        6.63122177e-01,  2.21233368e-02,  1.60055161e-01,  5.21633148e-01,\n",
       "       -4.34284210e-02,  7.98372269e-01,  2.21775055e-01,  3.89934540e-01,\n",
       "       -5.63716888e-02,  4.02374268e-01,  2.34174728e-01,  1.20378494e-01,\n",
       "        3.05492401e-01,  7.86228180e-01,  3.32489014e-02,  1.22546768e+00,\n",
       "        8.94660950e-01,  8.18462372e-02, -1.51920319e-02,  1.70993805e-01,\n",
       "       -6.85825348e-02, -1.07860565e-01, -5.02357483e-02,  2.98706055e-01,\n",
       "        3.57059479e-01,  9.57756042e-02,  8.85318756e-01, -3.33862305e-02,\n",
       "        5.99222183e-01,  8.95671844e-02,  9.83791351e-02,  3.54097366e-01,\n",
       "        2.35946655e-01, -6.72740936e-02,  1.44279480e-01,  4.17909622e-01,\n",
       "        5.87404251e-01,  2.16773987e-01, -3.32946777e-02,  1.00634003e+00,\n",
       "        4.25720215e-02, -1.73492432e-02,  2.48306274e-01, -5.93585968e-02,\n",
       "        2.22206116e-01, -7.19318390e-02,  8.47053528e-02,  7.15484619e-02,\n",
       "        3.49216461e-02,  4.43487167e-01,  1.86801910e-01,  1.83120728e-01,\n",
       "        7.56149292e-02,  1.36470795e-02,  1.84680939e-01,  2.32355118e-01,\n",
       "        5.30639648e-01,  1.60318375e-01,  3.95301819e-01, -4.49199677e-02,\n",
       "        8.39277267e-01,  1.66168213e-02, -1.69963837e-02, -2.13928223e-02,\n",
       "        1.46438599e-01,  1.38082504e-01, -3.34510803e-02,  4.14829254e-01,\n",
       "        6.57266617e-01, -4.96482849e-03,  2.86159515e-02,  4.61063385e-02,\n",
       "       -7.21836090e-02,  2.73765564e-01,  5.28602600e-01, -5.90591431e-02,\n",
       "        8.43166351e-01,  3.25839996e-01,  3.18864822e-01,  3.63826752e-02,\n",
       "       -8.52031708e-02,  2.83332825e-01,  3.01282883e-01,  1.37756348e-01,\n",
       "        3.35811615e-01,  4.12479401e-01,  3.75230789e-01,  1.24031067e-01,\n",
       "        2.87851334e-01,  9.06190872e-01,  4.45516586e-01,  2.74778366e-01,\n",
       "       -6.60133362e-03,  6.91825867e-01,  6.71916962e-01,  1.15436554e-01,\n",
       "        7.74547577e-01,  9.94375229e-01,  5.87636948e-01,  3.14287186e-01,\n",
       "        2.26406097e-01, -4.47216034e-02,  2.26015091e-01,  2.30604172e-01,\n",
       "        3.54967117e-01, -1.26579285e-01,  3.52478027e-02,  1.82241440e-01,\n",
       "        2.15324402e-01,  1.76147461e-01, -2.96192169e-02,  1.00051117e+00,\n",
       "        1.88228607e-01,  7.52136230e-01,  6.19804382e-01,  7.17826843e-01,\n",
       "        3.15587997e-01,  2.23407745e-02,  3.26412201e-01, -6.87789917e-03,\n",
       "        2.81553268e-01, -2.27832794e-02,  7.98835754e-02, -2.33650208e-03,\n",
       "        3.57049942e-01,  1.36474609e-01,  2.65785217e-01,  1.39846802e-02,\n",
       "        2.21052170e-01,  7.07397461e-01,  1.59553528e-01,  2.04515457e-01,\n",
       "        5.38234711e-01, -1.52608871e-01,  2.54835129e-01,  2.76424408e-01,\n",
       "        2.64015198e-01,  6.68907166e-02,  9.74365234e-01,  2.00014114e-01,\n",
       "        7.55767822e-01, -3.50036621e-02,  4.87707138e-01,  5.89370728e-03,\n",
       "       -7.24697113e-02,  3.05599213e-01, -2.05085754e-01,  1.90959930e-01,\n",
       "       -2.46543884e-02, -7.71465302e-02,  2.78949738e-01,  7.84206390e-02,\n",
       "        2.33926773e-01,  4.44866180e-01,  6.62422180e-02, -3.31249237e-02,\n",
       "        5.83154678e-01,  5.78041077e-02,  3.20459366e-01,  7.24199295e-01,\n",
       "        1.35395050e-01, -2.21672058e-02,  7.33074188e-01, -3.08263779e-01,\n",
       "        1.09134293e+00,  2.85911560e-01,  8.85036469e-01,  6.96590424e-01,\n",
       "        5.85313797e-01, -2.22606659e-02,  9.52068329e-01,  7.14960098e-01,\n",
       "        4.48488235e-01,  5.80451965e-01,  1.87091827e-01,  2.29625702e-01,\n",
       "       -5.77888489e-02,  3.15258026e-01,  8.74639511e-01, -1.67903900e-02,\n",
       "        2.52502441e-01, -3.35235596e-02, -4.39720154e-02,  4.13246155e-02,\n",
       "        2.35940933e-01,  2.03041077e-01,  8.81978989e-01,  5.87232590e-01,\n",
       "        1.20059967e-01, -2.02713013e-02, -1.93176270e-02,  1.03513718e-01,\n",
       "        8.30078125e-03,  2.29167938e-01, -1.69563293e-02,  7.15065002e-02,\n",
       "        1.62652969e-01,  1.70101166e-01,  2.46570587e-01,  1.47708893e-01,\n",
       "        3.91769409e-01, -6.66084290e-02,  1.15688324e-01,  1.84461594e-01,\n",
       "        9.07287598e-02, -1.79824829e-02,  2.09274292e-01, -1.30081177e-02,\n",
       "        5.46430588e-01,  4.15834427e-01,  1.78153992e-01,  1.71928406e-02,\n",
       "        4.93839264e-01,  1.47190094e-01,  5.24808884e-01,  5.98087311e-01,\n",
       "        3.08258057e-01,  3.09282303e-01,  4.46462631e-01,  1.68132782e-01,\n",
       "        2.60761261e-01,  7.56248474e-01,  4.06194687e-01,  4.90680695e-01,\n",
       "        5.14303207e-01, -1.30233765e-01,  7.90309906e-02,  3.50545883e-01,\n",
       "        1.00466347e+00,  2.73424149e-01,  6.35358810e-01,  5.78573227e-01,\n",
       "        4.68219757e-01,  3.75556946e-03,  3.59020233e-01,  6.74667358e-02,\n",
       "       -4.23812866e-02,  7.03310013e-01,  1.27141953e-01,  8.00054550e-01,\n",
       "        4.70806122e-01, -1.74236298e-02,  2.93292999e-02,  5.55229187e-01,\n",
       "        5.00831604e-02,  1.15262985e-01, -9.72366333e-03,  1.47500992e-01,\n",
       "        4.71195221e-01, -9.27066803e-02,  8.08830261e-02,  3.09944153e-02,\n",
       "        3.94821167e-01,  2.23752975e-01,  1.00328255e+00,  7.08070755e-01,\n",
       "        3.56016159e-01,  2.62950897e-01, -2.83584595e-02, -9.65118408e-03,\n",
       "        3.08876038e-02,  1.41725540e-01,  7.82546997e-02,  5.12620926e-01,\n",
       "        2.04790115e-01,  3.11731339e-01,  5.28480530e-01,  4.61914062e-01,\n",
       "        5.35717010e-02,  8.17258835e-01,  5.33889771e-01, -1.38187408e-01,\n",
       "        5.09431839e-01,  1.94082260e-01,  4.56127167e-01,  1.85176849e-01,\n",
       "        2.22002029e-01,  1.15606308e-01,  6.32972717e-02,  7.37056732e-02,\n",
       "        1.02434158e-01,  5.51389694e-01,  7.02974319e-01,  5.22113800e-01,\n",
       "        5.35108566e-01,  3.19576263e-02,  1.11070633e-01, -1.18642807e-01,\n",
       "        5.31820297e-01, -1.74417496e-01,  4.54479218e-01,  9.74384308e-01,\n",
       "        4.18216705e-01, -1.16029739e-01,  8.70710373e-01,  1.62200928e-01,\n",
       "        6.13080978e-01,  3.17199707e-01, -7.86705017e-02,  4.93911743e-01,\n",
       "        7.44873047e-01,  6.05487823e-02,  6.03637695e-02,  2.36848831e-01,\n",
       "        5.79164505e-01,  1.10719681e-01,  3.81807327e-01,  6.02230072e-01,\n",
       "        5.84259033e-02,  2.21803665e-01,  3.89005661e-01,  6.63732529e-01,\n",
       "        1.56141281e-01,  3.97298813e-01,  5.80144882e-01,  5.03761292e-01,\n",
       "        1.06422424e-01,  1.49778366e-01,  2.33282089e-01, -3.35502625e-03,\n",
       "       -2.86369324e-02,  2.65895844e-01,  2.60557175e-01, -6.16474152e-02,\n",
       "        1.46266937e-01,  8.24792862e-01,  5.68500519e-01, -9.56401825e-02,\n",
       "       -1.02422714e-01,  8.49170685e-02,  1.61640167e-01, -7.93075562e-02,\n",
       "        9.43893433e-01,  7.93895721e-02,  3.38407516e-01,  1.57976151e-01,\n",
       "       -6.93988800e-02,  2.15122223e-01,  4.78881836e-01,  2.15969086e-02,\n",
       "        5.34440994e-01,  1.42538071e-01, -1.58412933e-01,  9.96971130e-03,\n",
       "        2.26722717e-01,  3.34793091e-01,  6.04534149e-02, -2.09369659e-02,\n",
       "       -1.07881546e-01,  3.34320068e-01,  5.10139465e-01,  3.45956802e-01,\n",
       "       -8.66832733e-02, -4.99668121e-02,  5.05311966e-01,  8.22257996e-02,\n",
       "        6.74610138e-02,  3.23137283e-01,  3.38199615e-01,  5.37317276e-01,\n",
       "        2.91835785e-01,  3.30526352e-01, -4.10423279e-02,  8.27453613e-01,\n",
       "        6.03399277e-01,  2.36701965e-01,  7.02354431e-01,  4.44679260e-01,\n",
       "        5.81172943e-01,  1.90052032e-01,  5.44738770e-02,  9.38472748e-02,\n",
       "       -6.77242279e-02,  1.06014252e-01, -2.49557495e-02, -2.94532776e-02,\n",
       "        6.56032562e-02,  9.60597992e-02,  1.03300095e-01,  1.77713394e-01,\n",
       "        1.02064133e-01,  6.64178848e-01,  1.97723389e-01,  1.04703903e-01,\n",
       "        1.13412857e-01, -3.24707031e-02,  1.46572113e-01,  4.64948654e-01,\n",
       "        7.55527496e-01,  2.03935623e-01,  4.90146637e-01, -1.01343155e-01,\n",
       "        6.61670685e-01,  7.53437042e-01,  9.01063919e-01,  7.72949219e-01,\n",
       "        2.73454666e-01,  2.98059464e-01,  1.87173843e-01,  7.19871521e-01,\n",
       "        2.29824066e-01,  3.34680557e-01,  8.51564407e-01,  3.06320190e-02,\n",
       "       -3.71551514e-03, -7.81574249e-02,  7.49845505e-01,  2.04629898e-01,\n",
       "        4.06066895e-01,  3.32262039e-01,  1.82020187e-01,  8.23366165e-01,\n",
       "        5.03223419e-01,  6.34012222e-01, -5.08651733e-02,  4.25987244e-02,\n",
       "        1.11087799e-01,  1.89168930e-01,  6.01007462e-01,  4.09053802e-01,\n",
       "        6.87728882e-01,  2.89896011e-01, -9.20753479e-02,  4.46662903e-02,\n",
       "        1.98949814e-01,  6.18911743e-01,  1.41876221e-01,  6.98902130e-01,\n",
       "        3.11853409e-01,  1.26810074e-01,  8.11496735e-01,  6.24694824e-02,\n",
       "       -1.04402542e-01,  6.59942627e-02,  1.23662949e-01,  5.18690109e-01,\n",
       "       -5.96504211e-02,  6.39738083e-01, -1.29909515e-02,  3.84216309e-02,\n",
       "       -1.04923248e-01,  1.96504593e-01,  3.36139679e-01,  4.87976074e-01,\n",
       "        1.93780899e-01,  7.93249130e-01,  1.69439316e-01,  8.55922699e-02,\n",
       "        1.68628693e-01,  1.73206329e-01,  3.23886871e-02,  4.69253540e-01,\n",
       "        2.03073502e-01,  8.46717834e-01,  4.20892715e-01,  2.17914581e-01,\n",
       "        1.81142807e-01,  1.54855728e-01,  7.26318359e-01,  4.45236206e-01,\n",
       "        4.87512589e-01,  1.01602554e-01,  4.13120270e-01, -1.13203049e-01,\n",
       "        1.79384232e-01, -9.77516174e-03,  1.39068604e-01,  1.11982346e-01,\n",
       "        6.09586716e-01,  2.16445923e-02,  1.88241959e-01, -1.35332108e-01,\n",
       "        7.06474304e-01,  4.33109283e-01, -5.83553314e-02,  9.28718567e-01,\n",
       "        5.40609360e-01, -1.64413452e-03,  9.18956757e-01, -2.19230652e-02,\n",
       "        1.65443420e-01,  1.77812576e-01,  4.72869873e-01, -2.82287598e-03,\n",
       "        4.00402069e-01,  1.41868591e-02,  1.95337296e-01, -6.79912567e-02,\n",
       "        5.87272644e-01,  1.92470551e-01,  2.33327866e-01,  2.73635864e-01,\n",
       "        9.40700531e-01,  7.10126877e-01,  1.33384705e-01,  7.37514496e-02,\n",
       "        5.58166504e-02, -2.26373672e-01,  4.10919189e-02,  5.16967773e-02,\n",
       "        3.10592651e-02,  2.93617249e-01,  9.69366074e-01,  7.98654556e-01,\n",
       "       -2.29816437e-02,  5.26599884e-02,  2.64850616e-01,  1.75155640e-01,\n",
       "        7.06321716e-01,  1.73851013e-01,  3.44285965e-01])"
      ]
     },
     "execution_count": 11,
     "metadata": {},
     "output_type": "execute_result"
    }
   ],
   "source": [
    "predictions = LinearReg.predict(x_test)\n",
    "predictions"
   ]
  },
  {
   "cell_type": "markdown",
   "id": "5051c5b6",
   "metadata": {},
   "source": [
    "#### Q4) Using the `predictions` and the `y_test` dataframe calculate the value for each metric using the appropriate function.\n"
   ]
  },
  {
   "cell_type": "code",
   "execution_count": 12,
   "id": "84ea61f9",
   "metadata": {},
   "outputs": [
    {
     "name": "stdout",
     "output_type": "stream",
     "text": [
      "LinearRegression_MAE: 0.25631593311105977\n",
      "LinearRegression_MSE: 0.11571951119153882\n",
      "LinearRegression_R2: 0.42713741243249836\n"
     ]
    }
   ],
   "source": [
    "LinearRegression_MAE = metrics.mean_absolute_error(y_test, predictions)\n",
    "LinearRegression_MSE = metrics.mean_squared_error(y_test, predictions)\n",
    "LinearRegression_R2 = metrics.r2_score(y_test, predictions)\n",
    "\n",
    "print(\"LinearRegression_MAE:\",LinearRegression_MAE)\n",
    "print(\"LinearRegression_MSE:\",LinearRegression_MSE)\n",
    "print(\"LinearRegression_R2:\",LinearRegression_R2)"
   ]
  },
  {
   "cell_type": "markdown",
   "id": "aebd7ff5",
   "metadata": {},
   "source": [
    "#### Q5) Show the MAE, MSE, and R2 in a tabular format using data frame for the linear model.\n"
   ]
  },
  {
   "cell_type": "code",
   "execution_count": 13,
   "id": "f689c226",
   "metadata": {},
   "outputs": [
    {
     "name": "stdout",
     "output_type": "stream",
     "text": [
      "                Metric     Value\n",
      "0  Mean Absolute Error  0.256316\n",
      "1   Mean Squared Error  0.115720\n",
      "2            R-squared  0.427137\n"
     ]
    }
   ],
   "source": [
    "Report = pd.DataFrame({\n",
    "    'Metric': ['Mean Absolute Error', 'Mean Squared Error', 'R-squared'],\n",
    "    'Value': [LinearRegression_MAE, LinearRegression_MSE, LinearRegression_R2]\n",
    "})\n",
    "\n",
    "print(Report)"
   ]
  },
  {
   "cell_type": "markdown",
   "id": "076ba5b2",
   "metadata": {},
   "source": [
    "### KNN"
   ]
  },
  {
   "cell_type": "markdown",
   "id": "1e11183e",
   "metadata": {},
   "source": [
    "#### Q6) Create and train a KNN model called KNN using the training data (`x_train`, `y_train`) with the `n_neighbors` parameter set to `4`."
   ]
  },
  {
   "cell_type": "code",
   "execution_count": 14,
   "id": "ad312b3d",
   "metadata": {},
   "outputs": [
    {
     "data": {
      "text/plain": [
       "KNeighborsClassifier(n_neighbors=4)"
      ]
     },
     "execution_count": 14,
     "metadata": {},
     "output_type": "execute_result"
    }
   ],
   "source": [
    "KNN = KNeighborsClassifier(n_neighbors=4)\n",
    "\n",
    "KNN.fit(x_train,y_train)\n",
    "\n",
    "KNN"
   ]
  },
  {
   "cell_type": "markdown",
   "id": "b5d505b6",
   "metadata": {},
   "source": [
    "#### Q7) Now use the `predict` method on the testing data (`x_test`) and save it to the array `predictions`."
   ]
  },
  {
   "cell_type": "code",
   "execution_count": 15,
   "id": "3ae04d8d",
   "metadata": {},
   "outputs": [
    {
     "data": {
      "text/plain": [
       "array([0., 0., 1., 0., 0., 0., 0., 1., 1., 0., 0., 0., 0., 0., 0., 0., 0.,\n",
       "       0., 0., 0., 0., 1., 0., 0., 0., 0., 0., 0., 1., 0., 0., 0., 0., 0.,\n",
       "       0., 1., 0., 0., 0., 0., 0., 1., 0., 0., 0., 0., 0., 0., 1., 0., 0.,\n",
       "       0., 0., 0., 0., 0., 0., 0., 0., 0., 0., 0., 1., 1., 0., 0., 0., 0.,\n",
       "       0., 0., 0., 0., 0., 0., 0., 0., 0., 0., 0., 1., 0., 0., 0., 0., 0.,\n",
       "       0., 0., 0., 0., 0., 0., 0., 0., 0., 0., 1., 0., 1., 0., 0., 0., 0.,\n",
       "       1., 0., 1., 1., 0., 0., 0., 1., 0., 0., 0., 0., 0., 0., 0., 0., 0.,\n",
       "       0., 0., 0., 0., 0., 0., 0., 0., 0., 0., 1., 0., 0., 0., 0., 1., 0.,\n",
       "       0., 0., 0., 1., 0., 0., 0., 0., 1., 0., 0., 0., 0., 1., 0., 0., 0.,\n",
       "       0., 0., 0., 0., 1., 0., 1., 1., 0., 0., 0., 0., 0., 0., 0., 1., 0.,\n",
       "       1., 0., 0., 0., 0., 0., 0., 0., 0., 0., 1., 0., 0., 1., 0., 0., 0.,\n",
       "       0., 0., 0., 0., 0., 0., 0., 0., 0., 0., 0., 0., 0., 0., 0., 0., 0.,\n",
       "       1., 0., 0., 0., 0., 0., 1., 1., 0., 0., 0., 0., 0., 0., 0., 0., 1.,\n",
       "       0., 0., 0., 0., 0., 0., 0., 0., 0., 0., 0., 0., 1., 1., 0., 0., 1.,\n",
       "       1., 0., 1., 1., 0., 0., 1., 0., 0., 0., 0., 0., 0., 0., 0., 0., 0.,\n",
       "       1., 0., 1., 1., 1., 0., 0., 0., 0., 0., 0., 0., 0., 0., 0., 0., 0.,\n",
       "       0., 1., 0., 0., 0., 0., 0., 0., 0., 0., 1., 0., 0., 0., 0., 0., 0.,\n",
       "       0., 0., 0., 0., 0., 0., 0., 0., 1., 0., 0., 1., 0., 0., 0., 0., 0.,\n",
       "       1., 0., 1., 0., 1., 1., 0., 0., 1., 0., 0., 0., 1., 0., 0., 1., 1.,\n",
       "       0., 0., 0., 0., 0., 0., 0., 1., 0., 0., 0., 0., 0., 0., 0., 0., 0.,\n",
       "       0., 0., 0., 0., 0., 0., 0., 0., 0., 0., 0., 0., 1., 0., 0., 0., 0.,\n",
       "       0., 1., 1., 1., 0., 1., 0., 0., 1., 0., 0., 0., 0., 0., 0., 1., 0.,\n",
       "       0., 1., 0., 0., 0., 0., 0., 0., 0., 1., 0., 0., 0., 1., 0., 0., 0.,\n",
       "       0., 1., 0., 0., 0., 0., 0., 1., 1., 0., 0., 0., 0., 0., 0., 0., 0.,\n",
       "       0., 0., 0., 1., 0., 1., 0., 0., 0., 0., 0., 0., 0., 0., 0., 0., 0.,\n",
       "       1., 0., 0., 1., 0., 0., 0., 1., 0., 0., 1., 0., 0., 1., 0., 0., 0.,\n",
       "       0., 0., 1., 0., 0., 0., 0., 0., 0., 1., 0., 0., 0., 0., 0., 0., 0.,\n",
       "       0., 0., 1., 0., 0., 0., 0., 0., 0., 0., 1., 0., 0., 0., 0., 0., 0.,\n",
       "       1., 0., 0., 0., 0., 0., 0., 0., 0., 0., 0., 0., 0., 0., 0., 0., 0.,\n",
       "       0., 1., 0., 0., 0., 0., 0., 0., 0., 0., 0., 0., 0., 0., 1., 0., 0.,\n",
       "       0., 0., 0., 0., 0., 0., 0., 0., 0., 0., 0., 0., 0., 0., 0., 1., 0.,\n",
       "       0., 0., 0., 0., 0., 1., 0., 0., 0., 1., 1., 1., 1., 0., 0., 0., 1.,\n",
       "       0., 0., 1., 0., 0., 0., 0., 0., 0., 0., 0., 1., 0., 1., 0., 0., 0.,\n",
       "       0., 0., 0., 1., 0., 0., 0., 0., 1., 0., 0., 0., 0., 1., 0., 0., 0.,\n",
       "       0., 0., 0., 0., 0., 0., 0., 0., 0., 0., 0., 1., 0., 0., 0., 0., 0.,\n",
       "       0., 0., 1., 0., 0., 0., 0., 1., 0., 0., 0., 0., 0., 0., 0., 0., 0.,\n",
       "       1., 0., 0., 0., 1., 0., 0., 1., 0., 0., 1., 0., 0., 0., 0., 0., 0.,\n",
       "       0., 0., 0., 1., 0., 0., 0., 1., 1., 0., 0., 0., 0., 0., 0., 0., 0.,\n",
       "       1., 1., 0., 0., 0., 0., 1., 0., 1.])"
      ]
     },
     "execution_count": 15,
     "metadata": {},
     "output_type": "execute_result"
    }
   ],
   "source": [
    "predictions = KNN.predict(x_test)\n",
    "predictions"
   ]
  },
  {
   "cell_type": "markdown",
   "id": "c83bcfc5",
   "metadata": {},
   "source": [
    "#### Q8) Using the `predictions` and the `y_test` dataframe calculate the value for each metric using the appropriate function."
   ]
  },
  {
   "cell_type": "code",
   "execution_count": 16,
   "id": "1d4565cf",
   "metadata": {},
   "outputs": [
    {
     "name": "stdout",
     "output_type": "stream",
     "text": [
      "KNN_Accuracy_Score: 0.8183206106870229\n",
      "KNN_JaccardIndex: 0.4251207729468599\n",
      "KNN_F1_Score: 0.5966101694915255\n"
     ]
    }
   ],
   "source": [
    "KNN_Accuracy_Score = metrics.accuracy_score(y_test, predictions)\n",
    "KNN_JaccardIndex = metrics.jaccard_score(y_test, predictions)\n",
    "KNN_F1_Score = metrics.f1_score(y_test, predictions)\n",
    "\n",
    "print(\"KNN_Accuracy_Score:\",KNN_Accuracy_Score)\n",
    "print(\"KNN_JaccardIndex:\",KNN_JaccardIndex)\n",
    "print(\"KNN_F1_Score:\",KNN_F1_Score)"
   ]
  },
  {
   "cell_type": "markdown",
   "id": "fc669865",
   "metadata": {},
   "source": [
    "### Decision Tree"
   ]
  },
  {
   "cell_type": "markdown",
   "id": "0801940c",
   "metadata": {},
   "source": [
    "#### Q9) Create and train a Decision Tree model called Tree using the training data (`x_train`, `y_train`)."
   ]
  },
  {
   "cell_type": "code",
   "execution_count": 17,
   "id": "390f4995",
   "metadata": {},
   "outputs": [
    {
     "data": {
      "text/plain": [
       "DecisionTreeClassifier()"
      ]
     },
     "execution_count": 17,
     "metadata": {},
     "output_type": "execute_result"
    }
   ],
   "source": [
    "# Create the Decision Tree model\n",
    "Tree = DecisionTreeClassifier()\n",
    "\n",
    "# Train the model using the training data\n",
    "Tree.fit(x_train, y_train)\n",
    "\n",
    "Tree"
   ]
  },
  {
   "cell_type": "markdown",
   "id": "1e0ef003",
   "metadata": {},
   "source": [
    "#### Q10) Now use the `predict` method on the testing data (`x_test`) and save it to the array `predictions`."
   ]
  },
  {
   "cell_type": "code",
   "execution_count": 18,
   "id": "5d40b3e4",
   "metadata": {},
   "outputs": [
    {
     "data": {
      "text/plain": [
       "array([0., 0., 1., 0., 0., 1., 0., 1., 1., 1., 0., 0., 0., 0., 0., 0., 0.,\n",
       "       0., 0., 0., 0., 1., 0., 0., 0., 1., 0., 0., 1., 0., 0., 0., 0., 0.,\n",
       "       0., 1., 0., 0., 0., 0., 0., 0., 0., 0., 0., 1., 0., 0., 1., 0., 0.,\n",
       "       0., 0., 0., 0., 1., 0., 1., 1., 1., 0., 0., 1., 1., 0., 0., 1., 0.,\n",
       "       0., 0., 0., 0., 0., 0., 0., 0., 1., 0., 0., 1., 0., 0., 0., 0., 1.,\n",
       "       0., 1., 1., 1., 0., 0., 0., 0., 0., 0., 1., 0., 1., 0., 0., 0., 0.,\n",
       "       1., 1., 1., 1., 0., 1., 0., 1., 0., 0., 0., 0., 0., 1., 0., 1., 0.,\n",
       "       0., 0., 0., 0., 0., 0., 0., 1., 1., 0., 1., 1., 0., 1., 0., 0., 0.,\n",
       "       0., 0., 0., 1., 1., 0., 0., 0., 1., 0., 0., 0., 0., 0., 0., 1., 0.,\n",
       "       0., 0., 0., 0., 1., 0., 1., 1., 0., 0., 0., 0., 0., 0., 1., 0., 0.,\n",
       "       1., 0., 1., 0., 0., 0., 0., 0., 0., 0., 1., 0., 0., 1., 0., 0., 0.,\n",
       "       0., 1., 0., 0., 0., 0., 1., 0., 0., 0., 0., 0., 0., 1., 0., 0., 0.,\n",
       "       1., 0., 0., 0., 1., 1., 0., 0., 1., 0., 0., 0., 0., 0., 1., 0., 1.,\n",
       "       0., 0., 0., 0., 1., 1., 0., 0., 1., 0., 0., 1., 1., 1., 0., 0., 1.,\n",
       "       1., 0., 1., 1., 0., 0., 0., 0., 1., 0., 0., 1., 0., 0., 0., 1., 0.,\n",
       "       1., 1., 0., 1., 1., 1., 0., 0., 0., 0., 0., 0., 1., 0., 0., 0., 0.,\n",
       "       0., 1., 1., 0., 1., 0., 0., 0., 0., 0., 1., 0., 1., 0., 0., 0., 0.,\n",
       "       0., 0., 0., 0., 0., 0., 0., 0., 1., 0., 0., 1., 0., 0., 0., 0., 0.,\n",
       "       1., 0., 1., 0., 1., 1., 0., 0., 1., 0., 1., 0., 0., 1., 0., 0., 1.,\n",
       "       0., 0., 0., 0., 0., 0., 1., 1., 0., 0., 0., 0., 0., 0., 1., 0., 0.,\n",
       "       0., 0., 0., 0., 0., 0., 0., 0., 0., 0., 0., 0., 1., 0., 0., 0., 0.,\n",
       "       1., 1., 0., 0., 0., 1., 1., 1., 1., 1., 0., 1., 1., 1., 0., 1., 1.,\n",
       "       0., 1., 0., 0., 0., 0., 0., 1., 0., 1., 0., 0., 0., 0., 0., 0., 0.,\n",
       "       0., 1., 0., 0., 0., 1., 0., 1., 1., 0., 0., 0., 1., 0., 0., 0., 1.,\n",
       "       0., 0., 1., 0., 0., 1., 0., 0., 0., 0., 1., 0., 0., 0., 0., 0., 0.,\n",
       "       1., 1., 0., 1., 0., 0., 0., 0., 0., 1., 0., 0., 0., 1., 0., 1., 0.,\n",
       "       0., 1., 1., 0., 0., 0., 1., 0., 0., 0., 0., 0., 0., 1., 1., 0., 1.,\n",
       "       0., 0., 0., 0., 0., 0., 0., 0., 0., 0., 1., 0., 0., 0., 1., 1., 0.,\n",
       "       1., 0., 1., 0., 1., 0., 0., 0., 0., 0., 0., 0., 0., 0., 0., 0., 0.,\n",
       "       0., 1., 0., 0., 0., 1., 0., 0., 1., 1., 0., 0., 0., 1., 0., 1., 0.,\n",
       "       0., 1., 0., 1., 1., 0., 0., 0., 0., 0., 0., 0., 1., 0., 0., 1., 0.,\n",
       "       0., 0., 0., 0., 1., 1., 1., 0., 0., 1., 1., 1., 1., 0., 0., 0., 1.,\n",
       "       0., 1., 1., 0., 0., 0., 0., 0., 0., 0., 1., 1., 0., 0., 0., 0., 0.,\n",
       "       1., 1., 1., 1., 0., 0., 0., 0., 0., 0., 0., 0., 0., 1., 0., 0., 0.,\n",
       "       0., 0., 0., 1., 0., 0., 0., 1., 1., 0., 0., 1., 0., 0., 0., 0., 0.,\n",
       "       0., 0., 1., 1., 0., 0., 0., 1., 0., 0., 0., 1., 0., 1., 0., 1., 0.,\n",
       "       1., 0., 1., 0., 1., 0., 0., 1., 1., 0., 1., 0., 0., 0., 1., 0., 0.,\n",
       "       0., 1., 0., 1., 0., 0., 0., 1., 1., 0., 1., 0., 0., 0., 0., 0., 0.,\n",
       "       1., 1., 0., 0., 0., 0., 1., 0., 0.])"
      ]
     },
     "execution_count": 18,
     "metadata": {},
     "output_type": "execute_result"
    }
   ],
   "source": [
    "predictions = Tree.predict(x_test)\n",
    "predictions"
   ]
  },
  {
   "cell_type": "markdown",
   "id": "93830da5",
   "metadata": {},
   "source": [
    "#### Q11) Using the `predictions` and the `y_test` dataframe calculate the value for each metric using the appropriate function."
   ]
  },
  {
   "cell_type": "code",
   "execution_count": 19,
   "id": "3439c5ee",
   "metadata": {},
   "outputs": [
    {
     "name": "stdout",
     "output_type": "stream",
     "text": [
      "Tree_Accuracy_Score: 0.766412213740458\n",
      "Tree_JaccardIndex: 0.4226415094339623\n",
      "Tree_F1_Score: 0.5941644562334217\n"
     ]
    }
   ],
   "source": [
    "Tree_Accuracy_Score = metrics.accuracy_score(y_test, predictions)\n",
    "Tree_JaccardIndex = metrics.jaccard_score(y_test, predictions)\n",
    "Tree_F1_Score = metrics.f1_score(y_test, predictions)\n",
    "\n",
    "print(\"Tree_Accuracy_Score:\",Tree_Accuracy_Score)\n",
    "print(\"Tree_JaccardIndex:\",Tree_JaccardIndex)\n",
    "print(\"Tree_F1_Score:\",Tree_F1_Score)"
   ]
  },
  {
   "cell_type": "markdown",
   "id": "4a93512a",
   "metadata": {},
   "source": [
    "### Logistic Regression"
   ]
  },
  {
   "cell_type": "markdown",
   "id": "60b98cad",
   "metadata": {},
   "source": [
    "#### Q12) Use the `train_test_split` function to split the `features` and `Y` dataframes with a `test_size` of `0.2` and the `random_state` set to `1`.\n"
   ]
  },
  {
   "cell_type": "code",
   "execution_count": 20,
   "id": "ea77b42a",
   "metadata": {},
   "outputs": [
    {
     "data": {
      "text/plain": [
       "(      MinTemp  MaxTemp  Rainfall  Evaporation  Sunshine  WindGustSpeed  \\\n",
       " 1264     12.3     19.7      30.0          4.0       7.2           44.0   \n",
       " 3113     25.1     38.1       0.0         13.8      11.1           59.0   \n",
       " 1230     12.2     17.5       0.0          2.8       3.0           41.0   \n",
       " 1221     10.3     16.5       1.0          2.2       0.8           24.0   \n",
       " 3070     20.4     23.6       3.2          7.0       0.0           33.0   \n",
       " ...       ...      ...       ...          ...       ...            ...   \n",
       " 2763     19.5     28.7       9.0          3.0       3.0           70.0   \n",
       " 905       6.8     16.1       0.0          4.2      10.2           41.0   \n",
       " 1096     20.6     28.1       1.0          3.2       9.8           41.0   \n",
       " 235      10.3     18.6       0.0          4.0      10.9           41.0   \n",
       " 1061     24.2     41.5       0.0          8.4      12.4           56.0   \n",
       " \n",
       "       WindSpeed9am  WindSpeed3pm  Humidity9am  Humidity3pm  ...  \\\n",
       " 1264          24.0          17.0         52.0         45.0  ...   \n",
       " 3113          20.0          31.0         26.0         52.0  ...   \n",
       " 1230          17.0          11.0         86.0         69.0  ...   \n",
       " 1221           7.0          11.0         89.0         71.0  ...   \n",
       " 3070          15.0           7.0         86.0         83.0  ...   \n",
       " ...            ...           ...          ...          ...  ...   \n",
       " 2763          17.0          17.0         84.0         62.0  ...   \n",
       " 905           26.0          20.0         58.0         50.0  ...   \n",
       " 1096           4.0          20.0         82.0         69.0  ...   \n",
       " 235            6.0          19.0         67.0         54.0  ...   \n",
       " 1061          24.0          33.0         46.0         22.0  ...   \n",
       " \n",
       "       WindDir3pm_NNW  WindDir3pm_NW  WindDir3pm_S  WindDir3pm_SE  \\\n",
       " 1264             0.0            0.0           0.0            0.0   \n",
       " 3113             0.0            0.0           0.0            0.0   \n",
       " 1230             0.0            0.0           0.0            0.0   \n",
       " 1221             0.0            0.0           0.0            0.0   \n",
       " 3070             0.0            0.0           0.0            0.0   \n",
       " ...              ...            ...           ...            ...   \n",
       " 2763             0.0            0.0           0.0            0.0   \n",
       " 905              0.0            0.0           1.0            0.0   \n",
       " 1096             0.0            0.0           0.0            0.0   \n",
       " 235              0.0            0.0           0.0            0.0   \n",
       " 1061             1.0            0.0           0.0            0.0   \n",
       " \n",
       "       WindDir3pm_SSE  WindDir3pm_SSW  WindDir3pm_SW  WindDir3pm_W  \\\n",
       " 1264             0.0             0.0            0.0           0.0   \n",
       " 3113             1.0             0.0            0.0           0.0   \n",
       " 1230             0.0             0.0            0.0           0.0   \n",
       " 1221             0.0             0.0            0.0           0.0   \n",
       " 3070             0.0             0.0            0.0           0.0   \n",
       " ...              ...             ...            ...           ...   \n",
       " 2763             0.0             0.0            0.0           0.0   \n",
       " 905              0.0             0.0            0.0           0.0   \n",
       " 1096             0.0             0.0            0.0           0.0   \n",
       " 235              0.0             0.0            0.0           0.0   \n",
       " 1061             0.0             0.0            0.0           0.0   \n",
       " \n",
       "       WindDir3pm_WNW  WindDir3pm_WSW  \n",
       " 1264             0.0             0.0  \n",
       " 3113             0.0             0.0  \n",
       " 1230             0.0             0.0  \n",
       " 1221             0.0             0.0  \n",
       " 3070             0.0             0.0  \n",
       " ...              ...             ...  \n",
       " 2763             0.0             0.0  \n",
       " 905              0.0             0.0  \n",
       " 1096             0.0             0.0  \n",
       " 235              0.0             0.0  \n",
       " 1061             0.0             0.0  \n",
       " \n",
       " [2616 rows x 66 columns],\n",
       "       MinTemp  MaxTemp  Rainfall  Evaporation  Sunshine  WindGustSpeed  \\\n",
       " 255      15.1     18.9       9.0          3.2       5.0           41.0   \n",
       " 1552      9.0     18.2       0.0          5.0      10.0           46.0   \n",
       " 1353     20.0     26.8       0.0          9.0       4.7           59.0   \n",
       " 1060     24.0     33.7       0.0          5.2       6.8           43.0   \n",
       " 808      12.6     24.9       0.0          2.4      10.6           41.0   \n",
       " ...       ...      ...       ...          ...       ...            ...   \n",
       " 1224     10.2     16.9       0.0          2.0       1.1           52.0   \n",
       " 756      20.9     26.7      14.0          3.4       6.2           41.0   \n",
       " 2774     19.6     28.5       0.2          7.6      12.7           43.0   \n",
       " 1387     21.7     33.2       1.4          8.8       9.4           56.0   \n",
       " 1723     20.8     24.3       0.0          7.8       1.3           43.0   \n",
       " \n",
       "       WindSpeed9am  WindSpeed3pm  Humidity9am  Humidity3pm  ...  \\\n",
       " 255           20.0          17.0         63.0         55.0  ...   \n",
       " 1552           9.0          17.0         52.0         33.0  ...   \n",
       " 1353          17.0           9.0         61.0         68.0  ...   \n",
       " 1060           7.0          28.0         72.0         73.0  ...   \n",
       " 808           15.0           9.0         64.0         32.0  ...   \n",
       " ...            ...           ...          ...          ...  ...   \n",
       " 1224          17.0          17.0         91.0         80.0  ...   \n",
       " 756            2.0          15.0         90.0         77.0  ...   \n",
       " 2774          11.0          22.0         68.0         46.0  ...   \n",
       " 1387          17.0          24.0         69.0         52.0  ...   \n",
       " 1723           7.0          11.0         72.0         68.0  ...   \n",
       " \n",
       "       WindDir3pm_NNW  WindDir3pm_NW  WindDir3pm_S  WindDir3pm_SE  \\\n",
       " 255              0.0            0.0           0.0            1.0   \n",
       " 1552             0.0            0.0           0.0            0.0   \n",
       " 1353             0.0            0.0           0.0            0.0   \n",
       " 1060             0.0            0.0           0.0            0.0   \n",
       " 808              0.0            0.0           0.0            0.0   \n",
       " ...              ...            ...           ...            ...   \n",
       " 1224             0.0            0.0           0.0            0.0   \n",
       " 756              0.0            0.0           0.0            0.0   \n",
       " 2774             0.0            0.0           0.0            0.0   \n",
       " 1387             1.0            0.0           0.0            0.0   \n",
       " 1723             0.0            0.0           0.0            0.0   \n",
       " \n",
       "       WindDir3pm_SSE  WindDir3pm_SSW  WindDir3pm_SW  WindDir3pm_W  \\\n",
       " 255              0.0             0.0            0.0           0.0   \n",
       " 1552             0.0             0.0            0.0           0.0   \n",
       " 1353             0.0             0.0            0.0           0.0   \n",
       " 1060             0.0             0.0            0.0           0.0   \n",
       " 808              0.0             0.0            0.0           1.0   \n",
       " ...              ...             ...            ...           ...   \n",
       " 1224             0.0             0.0            0.0           0.0   \n",
       " 756              0.0             0.0            0.0           0.0   \n",
       " 2774             0.0             0.0            0.0           0.0   \n",
       " 1387             0.0             0.0            0.0           0.0   \n",
       " 1723             0.0             1.0            0.0           0.0   \n",
       " \n",
       "       WindDir3pm_WNW  WindDir3pm_WSW  \n",
       " 255              0.0             0.0  \n",
       " 1552             0.0             1.0  \n",
       " 1353             0.0             0.0  \n",
       " 1060             0.0             0.0  \n",
       " 808              0.0             0.0  \n",
       " ...              ...             ...  \n",
       " 1224             0.0             0.0  \n",
       " 756              0.0             0.0  \n",
       " 2774             0.0             0.0  \n",
       " 1387             0.0             0.0  \n",
       " 1723             0.0             0.0  \n",
       " \n",
       " [655 rows x 66 columns],\n",
       " 1264    0.0\n",
       " 3113    0.0\n",
       " 1230    0.0\n",
       " 1221    0.0\n",
       " 3070    1.0\n",
       "        ... \n",
       " 2763    1.0\n",
       " 905     0.0\n",
       " 1096    0.0\n",
       " 235     0.0\n",
       " 1061    0.0\n",
       " Name: RainTomorrow, Length: 2616, dtype: float64,\n",
       " 255     0.0\n",
       " 1552    0.0\n",
       " 1353    0.0\n",
       " 1060    0.0\n",
       " 808     0.0\n",
       "        ... \n",
       " 1224    1.0\n",
       " 756     0.0\n",
       " 2774    0.0\n",
       " 1387    0.0\n",
       " 1723    0.0\n",
       " Name: RainTomorrow, Length: 655, dtype: float64)"
      ]
     },
     "execution_count": 20,
     "metadata": {},
     "output_type": "execute_result"
    }
   ],
   "source": [
    "x_train, x_test, y_train, y_test = train_test_split(features, Y, test_size =0.2, random_state = 1)\n",
    "\n",
    "x_train, x_test, y_train, y_test"
   ]
  },
  {
   "cell_type": "markdown",
   "id": "5b5914c9",
   "metadata": {},
   "source": [
    "#### Q13) Create and train a LogisticRegression model called LR using the training data (`x_train`, `y_train`) with the `solver` parameter set to `liblinear`"
   ]
  },
  {
   "cell_type": "code",
   "execution_count": 21,
   "id": "cc81253f",
   "metadata": {},
   "outputs": [
    {
     "data": {
      "text/plain": [
       "LogisticRegression(solver='liblinear')"
      ]
     },
     "execution_count": 21,
     "metadata": {},
     "output_type": "execute_result"
    }
   ],
   "source": [
    "LR = LogisticRegression(solver =\"liblinear\").fit(x_train,y_train)\n",
    "\n",
    "LR"
   ]
  },
  {
   "cell_type": "markdown",
   "id": "1ee63bd8",
   "metadata": {},
   "source": [
    "#### Q14) Now, use the `predict` and `predict_proba` methods on the testing data (`x_test`) and save it as 2 arrays `predictions` and `predict_proba`."
   ]
  },
  {
   "cell_type": "code",
   "execution_count": 22,
   "id": "e96f0414",
   "metadata": {},
   "outputs": [
    {
     "data": {
      "text/plain": [
       "array([0., 0., 0., 0., 0., 1., 0., 0., 0., 0., 1., 1., 0., 0., 0., 0., 1.,\n",
       "       0., 0., 0., 1., 1., 0., 0., 0., 0., 0., 0., 0., 0., 0., 0., 0., 1.,\n",
       "       1., 1., 1., 0., 1., 0., 0., 0., 0., 0., 0., 0., 0., 0., 0., 0., 1.,\n",
       "       0., 1., 0., 1., 1., 0., 0., 0., 0., 0., 0., 0., 0., 0., 0., 0., 0.,\n",
       "       0., 0., 0., 1., 0., 0., 0., 0., 0., 0., 0., 0., 0., 0., 0., 0., 1.,\n",
       "       0., 0., 0., 1., 0., 0., 1., 0., 0., 1., 0., 0., 0., 0., 0., 0., 1.,\n",
       "       0., 1., 1., 0., 0., 0., 0., 0., 0., 0., 1., 1., 0., 0., 1., 0., 0.,\n",
       "       0., 1., 0., 0., 0., 0., 0., 0., 0., 0., 0., 0., 0., 0., 0., 1., 1.,\n",
       "       0., 0., 0., 1., 0., 1., 0., 0., 0., 1., 0., 1., 1., 0., 0., 0., 1.,\n",
       "       0., 0., 1., 0., 0., 1., 0., 1., 0., 1., 1., 0., 0., 0., 0., 0., 0.,\n",
       "       0., 0., 0., 1., 0., 0., 0., 0., 0., 1., 1., 0., 0., 0., 1., 1., 0.,\n",
       "       0., 0., 0., 0., 0., 1., 0., 0., 1., 0., 1., 0., 0., 0., 0., 0., 0.,\n",
       "       0., 1., 1., 0., 0., 1., 0., 0., 0., 1., 0., 0., 0., 1., 0., 0., 0.,\n",
       "       1., 0., 1., 1., 0., 0., 0., 0., 0., 1., 1., 0., 0., 0., 0., 0., 0.,\n",
       "       0., 1., 0., 0., 1., 0., 0., 0., 1., 1., 1., 0., 0., 0., 0., 0., 1.,\n",
       "       0., 0., 0., 0., 1., 1., 1., 0., 0., 0., 0., 0., 0., 0., 0., 0., 0.,\n",
       "       0., 0., 0., 0., 0., 0., 1., 0., 0., 0., 1., 1., 1., 0., 0., 0., 0.,\n",
       "       1., 1., 0., 0., 0., 0., 1., 0., 0., 0., 0., 1., 0., 0., 0., 0., 1.,\n",
       "       1., 0., 0., 0., 1., 0., 0., 0., 0., 1., 0., 0., 0., 0., 0., 0., 0.,\n",
       "       0., 0., 1., 0., 0., 1., 1., 0., 0., 1., 0., 0., 0., 0., 0., 0., 0.,\n",
       "       1., 1., 0., 0., 1., 1., 1., 0., 1., 0., 0., 1., 0., 0., 0., 0., 0.,\n",
       "       0., 0., 0., 0., 0., 0., 0., 0., 1., 0., 0., 0., 0., 0., 0., 0., 0.,\n",
       "       0., 1., 0., 0., 1., 0., 0., 0., 0., 0., 0., 0., 0., 0., 1., 1., 0.,\n",
       "       0., 0., 0., 0., 0., 1., 0., 0., 0., 0., 0., 0., 0., 0., 0., 0., 0.,\n",
       "       0., 0., 0., 0., 0., 0., 0., 0., 0., 0., 0., 0., 0., 0., 0., 0., 0.,\n",
       "       0., 0., 0., 0., 0., 0., 0., 1., 1., 0., 0., 0., 0., 0., 0., 1., 1.,\n",
       "       1., 0., 0., 0., 1., 0., 1., 0., 0., 0., 0., 1., 0., 0., 0., 0., 0.,\n",
       "       0., 1., 0., 0., 1., 1., 0., 0., 1., 0., 0., 0., 0., 0., 1., 0., 0.,\n",
       "       1., 0., 0., 0., 0., 0., 0., 0., 0., 0., 1., 0., 0., 1., 1., 0., 1.,\n",
       "       0., 0., 0., 0., 0., 1., 0., 0., 1., 0., 0., 0., 0., 0., 0., 1., 0.,\n",
       "       0., 0., 0., 0., 0., 1., 0., 0., 1., 0., 0., 0., 0., 0., 0., 0., 0.,\n",
       "       0., 0., 0., 0., 0., 0., 0., 1., 0., 1., 0., 0., 1., 0., 0., 0., 0.,\n",
       "       0., 1., 0., 0., 0., 0., 0., 0., 0., 0., 1., 0., 0., 0., 0., 0., 0.,\n",
       "       0., 1., 1., 0., 0., 0., 0., 0., 0., 0., 1., 1., 0., 0., 0., 0., 0.,\n",
       "       0., 0., 0., 0., 0., 1., 0., 1., 0., 0., 0., 0., 1., 0., 0., 0., 0.,\n",
       "       0., 0., 0., 1., 1., 0., 0., 1., 0., 0., 0., 0., 0., 0., 0., 0., 0.,\n",
       "       0., 0., 0., 0., 1., 0., 0., 0., 0., 1., 0., 0., 0., 0., 1., 0., 0.,\n",
       "       0., 0., 1., 0., 0., 1., 1., 0., 0., 0., 1., 0., 1., 0., 0., 1., 0.,\n",
       "       0., 0., 1., 0., 1., 0., 0., 0., 1.])"
      ]
     },
     "execution_count": 22,
     "metadata": {},
     "output_type": "execute_result"
    }
   ],
   "source": [
    "predictions = LR.predict(x_test)\n",
    "predictions"
   ]
  },
  {
   "cell_type": "code",
   "execution_count": 23,
   "id": "db3bbea9",
   "metadata": {},
   "outputs": [
    {
     "data": {
      "text/plain": [
       "array([0., 0., 0., 0., 0., 1., 0., 0., 0., 0., 1., 1., 0., 0., 0., 0., 1.,\n",
       "       0., 0., 0., 1., 1., 0., 0., 0., 0., 0., 0., 0., 0., 0., 0., 0., 1.,\n",
       "       1., 1., 1., 0., 1., 0., 0., 0., 0., 0., 0., 0., 0., 0., 0., 0., 1.,\n",
       "       0., 1., 0., 1., 1., 0., 0., 0., 0., 0., 0., 0., 0., 0., 0., 0., 0.,\n",
       "       0., 0., 0., 1., 0., 0., 0., 0., 0., 0., 0., 0., 0., 0., 0., 0., 1.,\n",
       "       0., 0., 0., 1., 0., 0., 1., 0., 0., 1., 0., 0., 0., 0., 0., 0., 1.,\n",
       "       0., 1., 1., 0., 0., 0., 0., 0., 0., 0., 1., 1., 0., 0., 1., 0., 0.,\n",
       "       0., 1., 0., 0., 0., 0., 0., 0., 0., 0., 0., 0., 0., 0., 0., 1., 1.,\n",
       "       0., 0., 0., 1., 0., 1., 0., 0., 0., 1., 0., 1., 1., 0., 0., 0., 1.,\n",
       "       0., 0., 1., 0., 0., 1., 0., 1., 0., 1., 1., 0., 0., 0., 0., 0., 0.,\n",
       "       0., 0., 0., 1., 0., 0., 0., 0., 0., 1., 1., 0., 0., 0., 1., 1., 0.,\n",
       "       0., 0., 0., 0., 0., 1., 0., 0., 1., 0., 1., 0., 0., 0., 0., 0., 0.,\n",
       "       0., 1., 1., 0., 0., 1., 0., 0., 0., 1., 0., 0., 0., 1., 0., 0., 0.,\n",
       "       1., 0., 1., 1., 0., 0., 0., 0., 0., 1., 1., 0., 0., 0., 0., 0., 0.,\n",
       "       0., 1., 0., 0., 1., 0., 0., 0., 1., 1., 1., 0., 0., 0., 0., 0., 1.,\n",
       "       0., 0., 0., 0., 1., 1., 1., 0., 0., 0., 0., 0., 0., 0., 0., 0., 0.,\n",
       "       0., 0., 0., 0., 0., 0., 1., 0., 0., 0., 1., 1., 1., 0., 0., 0., 0.,\n",
       "       1., 1., 0., 0., 0., 0., 1., 0., 0., 0., 0., 1., 0., 0., 0., 0., 1.,\n",
       "       1., 0., 0., 0., 1., 0., 0., 0., 0., 1., 0., 0., 0., 0., 0., 0., 0.,\n",
       "       0., 0., 1., 0., 0., 1., 1., 0., 0., 1., 0., 0., 0., 0., 0., 0., 0.,\n",
       "       1., 1., 0., 0., 1., 1., 1., 0., 1., 0., 0., 1., 0., 0., 0., 0., 0.,\n",
       "       0., 0., 0., 0., 0., 0., 0., 0., 1., 0., 0., 0., 0., 0., 0., 0., 0.,\n",
       "       0., 1., 0., 0., 1., 0., 0., 0., 0., 0., 0., 0., 0., 0., 1., 1., 0.,\n",
       "       0., 0., 0., 0., 0., 1., 0., 0., 0., 0., 0., 0., 0., 0., 0., 0., 0.,\n",
       "       0., 0., 0., 0., 0., 0., 0., 0., 0., 0., 0., 0., 0., 0., 0., 0., 0.,\n",
       "       0., 0., 0., 0., 0., 0., 0., 1., 1., 0., 0., 0., 0., 0., 0., 1., 1.,\n",
       "       1., 0., 0., 0., 1., 0., 1., 0., 0., 0., 0., 1., 0., 0., 0., 0., 0.,\n",
       "       0., 1., 0., 0., 1., 1., 0., 0., 1., 0., 0., 0., 0., 0., 1., 0., 0.,\n",
       "       1., 0., 0., 0., 0., 0., 0., 0., 0., 0., 1., 0., 0., 1., 1., 0., 1.,\n",
       "       0., 0., 0., 0., 0., 1., 0., 0., 1., 0., 0., 0., 0., 0., 0., 1., 0.,\n",
       "       0., 0., 0., 0., 0., 1., 0., 0., 1., 0., 0., 0., 0., 0., 0., 0., 0.,\n",
       "       0., 0., 0., 0., 0., 0., 0., 1., 0., 1., 0., 0., 1., 0., 0., 0., 0.,\n",
       "       0., 1., 0., 0., 0., 0., 0., 0., 0., 0., 1., 0., 0., 0., 0., 0., 0.,\n",
       "       0., 1., 1., 0., 0., 0., 0., 0., 0., 0., 1., 1., 0., 0., 0., 0., 0.,\n",
       "       0., 0., 0., 0., 0., 1., 0., 1., 0., 0., 0., 0., 1., 0., 0., 0., 0.,\n",
       "       0., 0., 0., 1., 1., 0., 0., 1., 0., 0., 0., 0., 0., 0., 0., 0., 0.,\n",
       "       0., 0., 0., 0., 1., 0., 0., 0., 0., 1., 0., 0., 0., 0., 1., 0., 0.,\n",
       "       0., 0., 1., 0., 0., 1., 1., 0., 0., 0., 1., 0., 1., 0., 0., 1., 0.,\n",
       "       0., 0., 1., 0., 1., 0., 0., 0., 1.])"
      ]
     },
     "execution_count": 23,
     "metadata": {},
     "output_type": "execute_result"
    }
   ],
   "source": [
    "predict_proba = LR.predict(x_test)\n",
    "\n",
    "predict_proba"
   ]
  },
  {
   "cell_type": "markdown",
   "id": "9f3e7272",
   "metadata": {},
   "source": [
    "#### Q15) Using the `predictions`, `predict_proba` and the `y_test` dataframe calculate the value for each metric using the appropriate function."
   ]
  },
  {
   "cell_type": "code",
   "execution_count": 26,
   "id": "a8e4614f",
   "metadata": {},
   "outputs": [
    {
     "name": "stdout",
     "output_type": "stream",
     "text": [
      "LR_Accuracy_Score: 0.8351145038167939\n",
      "LR_JaccardIndex: 0.5045871559633027\n",
      "LR_F1_Score: 0.6707317073170731\n",
      "LR_Log_Loss: 5.69498723077533\n"
     ]
    }
   ],
   "source": [
    "LR_Accuracy_Score = metrics.accuracy_score(y_test, predictions)\n",
    "LR_JaccardIndex = metrics.jaccard_score(y_test, predictions)\n",
    "LR_F1_Score = metrics.f1_score(y_test, predictions)\n",
    "LR_Log_Loss = metrics.log_loss(y_test,predict_proba)\n",
    "\n",
    "print(\"LR_Accuracy_Score:\",LR_Accuracy_Score)\n",
    "print(\"LR_JaccardIndex:\",LR_JaccardIndex)\n",
    "print(\"LR_F1_Score:\",LR_F1_Score)\n",
    "print(\"LR_Log_Loss:\",LR_Log_Loss)"
   ]
  },
  {
   "cell_type": "markdown",
   "id": "7cb1f0be",
   "metadata": {},
   "source": [
    "### SVM\n"
   ]
  },
  {
   "cell_type": "markdown",
   "id": "c00c1bbb",
   "metadata": {},
   "source": [
    "#### Q16) Create and train a SVM model called SVM using the training data (`x_train`, `y_train`)."
   ]
  },
  {
   "cell_type": "code",
   "execution_count": 27,
   "id": "598b6043",
   "metadata": {},
   "outputs": [
    {
     "data": {
      "text/plain": [
       "SVC()"
      ]
     },
     "execution_count": 27,
     "metadata": {},
     "output_type": "execute_result"
    }
   ],
   "source": [
    "# Create the SVM model\n",
    "SVM = svm.SVC()\n",
    "\n",
    "# Train the SVM model using the training data\n",
    "SVM.fit(x_train, y_train)"
   ]
  },
  {
   "cell_type": "markdown",
   "id": "c2eaa93b",
   "metadata": {},
   "source": [
    "#### Q17) Now use the `predict` method on the testing data (`x_test`) and save it to the array `predictions`."
   ]
  },
  {
   "cell_type": "code",
   "execution_count": 28,
   "id": "a2faa8a4",
   "metadata": {},
   "outputs": [
    {
     "data": {
      "text/plain": [
       "array([0., 0., 0., 0., 0., 0., 0., 0., 0., 0., 0., 0., 0., 0., 0., 0., 0.,\n",
       "       0., 0., 0., 0., 0., 0., 0., 0., 0., 0., 0., 0., 0., 0., 0., 0., 0.,\n",
       "       0., 0., 0., 0., 0., 0., 0., 0., 0., 0., 0., 0., 0., 0., 0., 0., 0.,\n",
       "       0., 0., 0., 0., 0., 0., 0., 0., 0., 0., 0., 0., 0., 0., 0., 0., 0.,\n",
       "       0., 0., 0., 0., 0., 0., 0., 0., 0., 0., 0., 0., 0., 0., 0., 0., 0.,\n",
       "       0., 0., 0., 0., 0., 0., 0., 0., 0., 0., 0., 0., 0., 0., 0., 0., 0.,\n",
       "       0., 0., 0., 0., 0., 0., 0., 0., 0., 0., 0., 0., 0., 0., 0., 0., 0.,\n",
       "       0., 0., 0., 0., 0., 0., 0., 0., 0., 0., 0., 0., 0., 0., 0., 0., 0.,\n",
       "       0., 0., 0., 0., 0., 0., 0., 0., 0., 0., 0., 0., 0., 0., 0., 0., 0.,\n",
       "       0., 0., 0., 0., 0., 0., 0., 0., 0., 0., 0., 0., 0., 0., 0., 0., 0.,\n",
       "       0., 0., 0., 0., 0., 0., 0., 0., 0., 0., 0., 0., 0., 0., 0., 0., 0.,\n",
       "       0., 0., 0., 0., 0., 0., 0., 0., 0., 0., 0., 0., 0., 0., 0., 0., 0.,\n",
       "       0., 0., 0., 0., 0., 0., 0., 0., 0., 0., 0., 0., 0., 0., 0., 0., 0.,\n",
       "       0., 0., 0., 0., 0., 0., 0., 0., 0., 0., 0., 0., 0., 0., 0., 0., 0.,\n",
       "       0., 0., 0., 0., 0., 0., 0., 0., 0., 0., 0., 0., 0., 0., 0., 0., 0.,\n",
       "       0., 0., 0., 0., 0., 0., 0., 0., 0., 0., 0., 0., 0., 0., 0., 0., 0.,\n",
       "       0., 0., 0., 0., 0., 0., 0., 0., 0., 0., 0., 0., 0., 0., 0., 0., 0.,\n",
       "       0., 0., 0., 0., 0., 0., 0., 0., 0., 0., 0., 0., 0., 0., 0., 0., 0.,\n",
       "       0., 0., 0., 0., 0., 0., 0., 0., 0., 0., 0., 0., 0., 0., 0., 0., 0.,\n",
       "       0., 0., 0., 0., 0., 0., 0., 0., 0., 0., 0., 0., 0., 0., 0., 0., 0.,\n",
       "       0., 0., 0., 0., 0., 0., 0., 0., 0., 0., 0., 0., 0., 0., 0., 0., 0.,\n",
       "       0., 0., 0., 0., 0., 0., 0., 0., 0., 0., 0., 0., 0., 0., 0., 0., 0.,\n",
       "       0., 0., 0., 0., 0., 0., 0., 0., 0., 0., 0., 0., 0., 0., 0., 0., 0.,\n",
       "       0., 0., 0., 0., 0., 0., 0., 0., 0., 0., 0., 0., 0., 0., 0., 0., 0.,\n",
       "       0., 0., 0., 0., 0., 0., 0., 0., 0., 0., 0., 0., 0., 0., 0., 0., 0.,\n",
       "       0., 0., 0., 0., 0., 0., 0., 0., 0., 0., 0., 0., 0., 0., 0., 0., 0.,\n",
       "       0., 0., 0., 0., 0., 0., 0., 0., 0., 0., 0., 0., 0., 0., 0., 0., 0.,\n",
       "       0., 0., 0., 0., 0., 0., 0., 0., 0., 0., 0., 0., 0., 0., 0., 0., 0.,\n",
       "       0., 0., 0., 0., 0., 0., 0., 0., 0., 0., 0., 0., 0., 0., 0., 0., 0.,\n",
       "       0., 0., 0., 0., 0., 0., 0., 0., 0., 0., 0., 0., 0., 0., 0., 0., 0.,\n",
       "       0., 0., 0., 0., 0., 0., 0., 0., 0., 0., 0., 0., 0., 0., 0., 0., 0.,\n",
       "       0., 0., 0., 0., 0., 0., 0., 0., 0., 0., 0., 0., 0., 0., 0., 0., 0.,\n",
       "       0., 0., 0., 0., 0., 0., 0., 0., 0., 0., 0., 0., 0., 0., 0., 0., 0.,\n",
       "       0., 0., 0., 0., 0., 0., 0., 0., 0., 0., 0., 0., 0., 0., 0., 0., 0.,\n",
       "       0., 0., 0., 0., 0., 0., 0., 0., 0., 0., 0., 0., 0., 0., 0., 0., 0.,\n",
       "       0., 0., 0., 0., 0., 0., 0., 0., 0., 0., 0., 0., 0., 0., 0., 0., 0.,\n",
       "       0., 0., 0., 0., 0., 0., 0., 0., 0., 0., 0., 0., 0., 0., 0., 0., 0.,\n",
       "       0., 0., 0., 0., 0., 0., 0., 0., 0., 0., 0., 0., 0., 0., 0., 0., 0.,\n",
       "       0., 0., 0., 0., 0., 0., 0., 0., 0.])"
      ]
     },
     "execution_count": 28,
     "metadata": {},
     "output_type": "execute_result"
    }
   ],
   "source": [
    "predictions = SVM.predict(x_test)\n",
    "predictions"
   ]
  },
  {
   "cell_type": "markdown",
   "id": "6a7252af",
   "metadata": {},
   "source": [
    "#### Q18) Using the `predictions` and the `y_test` dataframe calculate the value for each metric using the appropriate function."
   ]
  },
  {
   "cell_type": "code",
   "execution_count": 29,
   "id": "9604f466",
   "metadata": {},
   "outputs": [
    {
     "name": "stdout",
     "output_type": "stream",
     "text": [
      "SVM_Accuracy_Score: 0.7221374045801526\n",
      "SVM_JaccardIndex: 0.0\n",
      "SVM_F1_Score: 0.0\n"
     ]
    }
   ],
   "source": [
    "SVM_Accuracy_Score = metrics.accuracy_score(y_test, predictions)\n",
    "SVM_JaccardIndex = metrics.jaccard_score(y_test, predictions)\n",
    "SVM_F1_Score = metrics.f1_score(y_test, predictions)\n",
    "\n",
    "print(\"SVM_Accuracy_Score:\",SVM_Accuracy_Score)\n",
    "print(\"SVM_JaccardIndex:\",SVM_JaccardIndex)\n",
    "print(\"SVM_F1_Score:\",SVM_F1_Score)"
   ]
  },
  {
   "cell_type": "markdown",
   "id": "097287e3",
   "metadata": {},
   "source": [
    "### Report"
   ]
  },
  {
   "cell_type": "markdown",
   "id": "7d7f9bb0",
   "metadata": {},
   "source": [
    "#### Q19) Show the Accuracy,Jaccard Index,F1-Score and LogLoss in a tabular format using data frame for all of the above models.\n",
    "\n",
    "\\*LogLoss is only for Logistic Regression Model"
   ]
  },
  {
   "cell_type": "code",
   "execution_count": 36,
   "id": "19475141",
   "metadata": {},
   "outputs": [
    {
     "name": "stdout",
     "output_type": "stream",
     "text": [
      "{'Model': ['Linear Regression', 'KNN', 'Decision Tree', 'Logistic Regression', 'SVM'], 'Accuracy': [0.8351145038167939, 0.8183206106870229, 0.766412213740458, 0.8351145038167939, 0.7221374045801526], 'Jaccard Index': [0.5045871559633027, 0.4251207729468599, 0.4226415094339623, 0.5045871559633027, 0.0], 'F1-Score': [0.6707317073170731, 0.5966101694915255, 0.5941644562334217, 0.6707317073170731, 0.0], 'Log Loss': [5.69498723077533, '-', '-', 5.69498723077533, '-']}\n"
     ]
    }
   ],
   "source": [
    "Report = {\n",
    "    'Model': ['Linear Regression', 'KNN', 'Decision Tree', 'Logistic Regression', 'SVM'],\n",
    "    'Accuracy': [LR_Accuracy_Score, KNN_Accuracy_Score, Tree_Accuracy_Score, LR_Accuracy_Score, SVM_Accuracy_Score],\n",
    "    'Jaccard Index': [LR_JaccardIndex, KNN_JaccardIndex, Tree_JaccardIndex, LR_JaccardIndex, SVM_JaccardIndex],\n",
    "    'F1-Score': [LR_F1_Score, KNN_F1_Score, Tree_F1_Score, LR_F1_Score, SVM_F1_Score],\n",
    "    'Log Loss': [LR_Log_Loss, '-', '-', LR_Log_Loss, '-']\n",
    "}\n",
    "\n",
    "# Create a DataFrame from the dictionary\n",
    "df = pd.DataFrame(Report)\n",
    "\n",
    "# Display the DataFrame\n",
    "print(Report)\n"
   ]
  },
  {
   "cell_type": "code",
   "execution_count": null,
   "id": "d4dba819",
   "metadata": {},
   "outputs": [],
   "source": []
  }
 ],
 "metadata": {
  "kernelspec": {
   "display_name": "Python 3 (ipykernel)",
   "language": "python",
   "name": "python3"
  },
  "language_info": {
   "codemirror_mode": {
    "name": "ipython",
    "version": 3
   },
   "file_extension": ".py",
   "mimetype": "text/x-python",
   "name": "python",
   "nbconvert_exporter": "python",
   "pygments_lexer": "ipython3",
   "version": "3.9.12"
  }
 },
 "nbformat": 4,
 "nbformat_minor": 5
}
